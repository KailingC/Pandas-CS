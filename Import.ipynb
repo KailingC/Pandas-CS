import pandas as pd


#1
#read from csv

pd.read_csv('filename')


#2
#read from csv files in multiple directories together

import glob
path =r'/.../data' # use your path
allFiles = glob.glob(path + "/*/*/common_file_name.csv")#the use of *!

frame = pd.DataFrame()
list_ = []
for file_ in allFiles:
    df = pd.read_csv(file_,index_col = ['H_ACT_ID'])
    list_.append(df)
frame = pd.concat(list_)#concat!


#3
#encoding error when reading
pd.read_csv('file', encoding = "ISO-8859-1")
pd.read_csv('file', encoding = "utf-8") 
pd.read_csv('file', encoding = "latin")
